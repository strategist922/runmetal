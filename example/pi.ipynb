{
 "cells": [
  {
   "cell_type": "code",
   "execution_count": 1,
   "metadata": {},
   "outputs": [],
   "source": [
    "source=\"\"\"\n",
    "#include <metal_stdlib>\n",
    "using namespace metal;\n",
    "\n",
    "kernel void monte_carlo(const device float2 *inPoints [[buffer(0)]],\n",
    "                        device bool *outBools [[buffer(1)]],\n",
    "                        uint id [[thread_position_in_grid]]) {\n",
    "  const float2 location = inPoints[id];\n",
    "  const float x = location.x;\n",
    "  const float y = location.y;\n",
    "  outBools[id] = (sqrt((x * x) + (y * y)) < 1.0) ? true : false;\n",
    "}\"\"\""
   ]
  },
  {
   "cell_type": "code",
   "execution_count": 2,
   "metadata": {},
   "outputs": [],
   "source": [
    "import runmetal\n",
    "import numpy"
   ]
  },
  {
   "cell_type": "code",
   "execution_count": 3,
   "metadata": {},
   "outputs": [],
   "source": [
    "pm=runmetal.PyMetal()"
   ]
  },
  {
   "cell_type": "code",
   "execution_count": 4,
   "metadata": {},
   "outputs": [],
   "source": [
    "pm.opendevice()\n",
    "pm.openlibrary(source)"
   ]
  },
  {
   "cell_type": "code",
   "execution_count": 5,
   "metadata": {},
   "outputs": [],
   "source": [
    "fn=pm.getfn(\"monte_carlo\")"
   ]
  },
  {
   "cell_type": "code",
   "execution_count": 6,
   "metadata": {},
   "outputs": [
    {
     "data": {
      "text/plain": [
       "<_MTLFunctionInternal: 0x7ff3f83c37d0>\n",
       "    name = monte_carlo \n",
       "    device = <MTLIGAccelDevice: 0x7ff3f61ef800>\n",
       "        name = Intel Iris Graphics \n",
       "    functionType = MTLFunctionTypeKernel \n",
       "    attributes: <none>"
      ]
     },
     "execution_count": 6,
     "metadata": {},
     "output_type": "execute_result"
    }
   ],
   "source": [
    "fn"
   ]
  },
  {
   "cell_type": "code",
   "execution_count": 7,
   "metadata": {},
   "outputs": [],
   "source": [
    "ibuf=pm.numpybuffer(numpy.float32(numpy.random.random(2*1024*1024)))\n",
    "obuf=pm.emptybuffer(1*1024*1024)"
   ]
  },
  {
   "cell_type": "code",
   "execution_count": 8,
   "metadata": {},
   "outputs": [],
   "source": [
    "cqueue, cbuffer=pm.getqueue()"
   ]
  },
  {
   "cell_type": "code",
   "execution_count": 9,
   "metadata": {},
   "outputs": [],
   "source": [
    "pm.enqueue_compute(cbuffer, fn, [ibuf, obuf])\n",
    "pm.enqueue_blit(cbuffer, obuf)"
   ]
  },
  {
   "cell_type": "code",
   "execution_count": 10,
   "metadata": {},
   "outputs": [],
   "source": [
    "pm.start_process(cbuffer)\n",
    "pm.wait_process(cbuffer)"
   ]
  },
  {
   "cell_type": "code",
   "execution_count": 11,
   "metadata": {},
   "outputs": [],
   "source": [
    "result=pm.buf2numpy(obuf, dtype=numpy.bool8)"
   ]
  },
  {
   "cell_type": "code",
   "execution_count": 12,
   "metadata": {},
   "outputs": [
    {
     "data": {
      "text/plain": [
       "3.14056396484375"
      ]
     },
     "execution_count": 12,
     "metadata": {},
     "output_type": "execute_result"
    }
   ],
   "source": [
    "numpy.sum(result==True)*4/1024/1024"
   ]
  },
  {
   "cell_type": "code",
   "execution_count": null,
   "metadata": {},
   "outputs": [],
   "source": []
  }
 ],
 "metadata": {
  "kernelspec": {
   "display_name": "Python 3",
   "language": "python",
   "name": "python3"
  },
  "language_info": {
   "codemirror_mode": {
    "name": "ipython",
    "version": 3
   },
   "file_extension": ".py",
   "mimetype": "text/x-python",
   "name": "python",
   "nbconvert_exporter": "python",
   "pygments_lexer": "ipython3",
   "version": "3.7.0"
  }
 },
 "nbformat": 4,
 "nbformat_minor": 2
}
